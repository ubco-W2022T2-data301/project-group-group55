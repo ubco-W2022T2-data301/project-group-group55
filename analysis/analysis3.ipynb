{
 "cells": [
  {
   "attachments": {},
   "cell_type": "markdown",
   "metadata": {},
   "source": [
    "# Adam Daniel Ristau"
   ]
  },
  {
   "attachments": {},
   "cell_type": "markdown",
   "metadata": {},
   "source": [
    "## Research question/interests\n",
    "\n",
    "Management major and potential Computer Science minor. Have a diverse set of interests through various fields. However, mainly looking to focus my interests on Entrepreneurship, Finance, or Marketing."
   ]
  }
 ],
 "metadata": {},
 "nbformat": 4,
 "nbformat_minor": 2
}
