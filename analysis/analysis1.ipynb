{
 "cells": [
  {
   "attachments": {},
   "cell_type": "markdown",
   "metadata": {},
   "source": [
    "# Sara Park\n",
    "\n",
    "## Research Question\n",
    "\n",
    "**Does ease of online booking, online boarding, and online support affect flight satisfaction, and if so does age matter?**\n",
    "\n",
    "\n",
    "### Research question/interests\n",
    "\n",
    "My research interests are psychology - behavioral mostly. As we have a group member in business, we combined our ideas for the topic of psychology in marketing. "
   ]
  },
  {
   "cell_type": "code",
   "execution_count": null,
   "metadata": {},
   "outputs": [],
   "source": [
    "import pandas as pd\n",
    "import numpy as np\n",
    "\n",
    "dta = pd.read_csv(\"../data/raw/Invistico_Airline.csv\")\n",
    "dta = pd.DataFrame(dta)\n",
    "\n",
    "dta.head()"
   ]
  },
  {
   "attachments": {},
   "cell_type": "markdown",
   "metadata": {},
   "source": [
    "- Data Analysis Plan\n",
    "    - I plan on subsetting the satisfaction, online boarding, ease of online booking, and age columns from the dataset to determine if there is a trend between whether the customer's satisfaction is affected by the level of ease in booking flight tickets online and ability to board online. First I will clean the data to ensure neither of the factors contain NA or null. The determination of the ease of online booking and online boarding uses a scale of 0 to 5, where 0 is not accessible and 5 is very accessible. To use Pearson's r to find the correlation of the variables, it will be easier for me to convert all variables into a numerical values to separate between satisfied and disatified customers and analyze the scores between the ease of online booking scores, online boarding, and age of customers."
   ]
  },
  {
   "cell_type": "code",
   "execution_count": null,
   "metadata": {},
   "outputs": [],
   "source": [
    "df = dta[['satisfaction','Ease of Online booking','Online boarding', 'Online support', 'Age']].dropna()\n",
    "df.describe().T\n",
    "# mean = booking: 3.472105; boarding: 3.352587; age: 39.427957\n",
    "# std = booking: 1.30556; boarding: 1.298715; age: 15.119460"
   ]
  },
  {
   "cell_type": "code",
   "execution_count": null,
   "metadata": {},
   "outputs": [],
   "source": [
    "df.describe(exclude=[np.number]).T\n",
    "# 71087/129880 # 0.54738303\n",
    "# 55% Satisfaction"
   ]
  },
  {
   "cell_type": "code",
   "execution_count": null,
   "metadata": {},
   "outputs": [],
   "source": [
    "satisfied = df.loc[df['satisfaction'] == 'satisfied'].mean()\n",
    "print(satisfied)    # booking: 3.984751; boarding: 3.751966; support: 3.983260; age: 41.050051;\n",
    "\n",
    "dissatisfied = df.loc[df['satisfaction'] == 'dissatisfied'].mean()\n",
    "print(dissatisfied)     #booking: 2.852261; boarding: 2.869695; suport: 2.959213; age: 37.466671"
   ]
  }
 ],
 "metadata": {
  "kernelspec": {
   "display_name": "base",
   "language": "python",
   "name": "python3"
  },
  "language_info": {
   "name": "python",
   "version": "3.10.9"
  },
  "orig_nbformat": 4
 },
 "nbformat": 4,
 "nbformat_minor": 2
}
