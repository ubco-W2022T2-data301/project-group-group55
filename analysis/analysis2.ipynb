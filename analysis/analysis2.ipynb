{
 "cells": [
  {
   "cell_type": "markdown",
   "metadata": {},
   "source": [
    "# Mataija Henderson"
   ]
  },
  {
   "attachments": {},
   "cell_type": "markdown",
   "metadata": {},
   "source": [
    "## Research question/interests\n",
    "\n",
    "I am mainly interested in psychology. A few toppics that I enjoy learning about are social and developmental psychology. Having two members interested in psychology and one interested in management has led us to look at airline customer data to see how much of an effect both age and ease online booking have on satisfaction."
   ]
  }
 ],
 "metadata": {
  "kernelspec": {
   "display_name": "base",
   "language": "python",
   "name": "python3"
  }
 },
 "nbformat": 4,
 "nbformat_minor": 2
}
