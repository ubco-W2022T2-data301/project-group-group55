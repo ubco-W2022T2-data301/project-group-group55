{
 "cells": [
  {
   "cell_type": "markdown",
   "metadata": {},
   "source": [
    "# Mataija Henderson"
   ]
  },
  {
   "cell_type": "markdown",
   "metadata": {},
   "source": [
    "# Research Question\n",
    "\n",
    "**Do delays in flight departures have a bigger negative impact on overall customer satisfaction with the flight than delays in arrivals and does type of travel or loyalty status have an effect?**\n",
    "\n",
    "## Research question/interests\n",
    "\n",
    "I am mainly interested in psychology. A few topics that I enjoy learning about are social and developmental psychology. Having two members interested in psychology and one interested in management has led us to look at airline customer data to see customer satisfaction."
   ]
  },
  {
   "cell_type": "code",
   "execution_count": null,
   "metadata": {},
   "outputs": [],
   "source": [
    "import pandas as pd\n",
    "\n",
    "dta = pd.read_csv(\"../data/raw/Invistico_Airline.csv\")"
   ]
  },
  {
   "cell_type": "markdown",
   "metadata": {},
   "source": [
    "\n",
    "\n",
    "Data analysis plan: To answer this question, I will make a subsetted dataframe only including the customer satisfaction score, arrival delay, departure delay, type of travel, and class columns to make the dataset more manageable to work with. Then, I will make two graphs, one for arrival delay and one for departure delay looking at the level of satisfaction for customers based on their type of travel, possibly sorted into time intervals to condense the data in the graph and make it easier to read, to see which type of delay causes a bigger decrease in satisfaction. I will then do the same for graphs of loyalty status to compare the two.\n"
   ]
  },
  {
   "cell_type": "code",
   "execution_count": null,
   "metadata": {},
   "outputs": [],
   "source": []
  }
 ],
 "metadata": {
  "kernelspec": {
   "display_name": "Python 3 (ipykernel)",
   "language": "python",
   "name": "python3"
  }
 },
 "nbformat": 4,
 "nbformat_minor": 4
}
