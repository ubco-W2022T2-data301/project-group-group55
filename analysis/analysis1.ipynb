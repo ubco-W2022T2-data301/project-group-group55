{
 "cells": [
  {
   "cell_type": "markdown",
   "metadata": {},
   "source": [
    "Sara Park"
   ]
  },
  {
   "cell_type": "markdown",
   "metadata": {},
   "source": [
<<<<<<< HEAD
    "## Research question/interests\r\n",
    "\r\n",
    "Briefly describe your research question or interests here."
   ]
  }
 ],
 "metadata": {},
 "nbformat": 4,
 "nbformat_minor": 2
=======
    "## Research question/interests\n",
    "\n",
    "My research interests are psychology - behavioral mostly. As we have a group member in business, we combined our ideas for the topic of psychology in marketing. "
   ]
  }
 ],
 "metadata": {
  "kernelspec": {
   "display_name": "Python 3 (ipykernel)",
   "language": "python",
   "name": "python3"
  }
 },
 "nbformat": 4,
 "nbformat_minor": 4
>>>>>>> a24f00e88e585b40f1526ee02ec8e2949f3899ba
}
