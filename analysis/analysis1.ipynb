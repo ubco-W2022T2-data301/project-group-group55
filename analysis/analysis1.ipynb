{
 "cells": [
  {
   "cell_type": "markdown",
   "metadata": {},
   "source": [
    "# Sara Park"
   ]
  },
  {
   "attachments": {},
   "cell_type": "markdown",
   "metadata": {},
   "source": [
    "# Research Question\n",
    "\n",
    "**Does ease of online booking, online boarding, and online support affect flight satisfaction, and if so does age matter?**\n",
    "\n",
    "\n",
    "## Research question/interests\n",
    "\n",
    "My research interests are psychology - behavioral mostly. As we have a group member in business, we combined our ideas for the topic of psychology in marketing. "
   ]
  },
  {
   "cell_type": "code",
<<<<<<< HEAD
   "execution_count": 16,
=======
   "execution_count": null,
>>>>>>> 488adc88632efad43ea8338ec7d3283a464df7b8
   "metadata": {},
   "outputs": [
    {
     "data": {
      "text/html": [
       "<div>\n",
       "<style scoped>\n",
       "    .dataframe tbody tr th:only-of-type {\n",
       "        vertical-align: middle;\n",
       "    }\n",
       "\n",
       "    .dataframe tbody tr th {\n",
       "        vertical-align: top;\n",
       "    }\n",
       "\n",
       "    .dataframe thead th {\n",
       "        text-align: right;\n",
       "    }\n",
       "</style>\n",
       "<table border=\"1\" class=\"dataframe\">\n",
       "  <thead>\n",
       "    <tr style=\"text-align: right;\">\n",
       "      <th></th>\n",
       "      <th>satisfaction</th>\n",
       "      <th>Gender</th>\n",
       "      <th>Customer Type</th>\n",
       "      <th>Age</th>\n",
       "      <th>Type of Travel</th>\n",
       "      <th>Class</th>\n",
       "      <th>Flight Distance</th>\n",
       "      <th>Seat comfort</th>\n",
       "      <th>Departure/Arrival time convenient</th>\n",
       "      <th>Food and drink</th>\n",
       "      <th>...</th>\n",
       "      <th>Online support</th>\n",
       "      <th>Ease of Online booking</th>\n",
       "      <th>On-board service</th>\n",
       "      <th>Leg room service</th>\n",
       "      <th>Baggage handling</th>\n",
       "      <th>Checkin service</th>\n",
       "      <th>Cleanliness</th>\n",
       "      <th>Online boarding</th>\n",
       "      <th>Departure Delay in Minutes</th>\n",
       "      <th>Arrival Delay in Minutes</th>\n",
       "    </tr>\n",
       "  </thead>\n",
       "  <tbody>\n",
       "    <tr>\n",
       "      <th>0</th>\n",
       "      <td>satisfied</td>\n",
       "      <td>Female</td>\n",
       "      <td>Loyal Customer</td>\n",
       "      <td>65</td>\n",
       "      <td>Personal Travel</td>\n",
       "      <td>Eco</td>\n",
       "      <td>265</td>\n",
       "      <td>0</td>\n",
       "      <td>0</td>\n",
       "      <td>0</td>\n",
       "      <td>...</td>\n",
       "      <td>2</td>\n",
       "      <td>3</td>\n",
       "      <td>3</td>\n",
       "      <td>0</td>\n",
       "      <td>3</td>\n",
       "      <td>5</td>\n",
       "      <td>3</td>\n",
       "      <td>2</td>\n",
       "      <td>0</td>\n",
       "      <td>0.0</td>\n",
       "    </tr>\n",
       "    <tr>\n",
       "      <th>1</th>\n",
       "      <td>satisfied</td>\n",
       "      <td>Male</td>\n",
       "      <td>Loyal Customer</td>\n",
       "      <td>47</td>\n",
       "      <td>Personal Travel</td>\n",
       "      <td>Business</td>\n",
       "      <td>2464</td>\n",
       "      <td>0</td>\n",
       "      <td>0</td>\n",
       "      <td>0</td>\n",
       "      <td>...</td>\n",
       "      <td>2</td>\n",
       "      <td>3</td>\n",
       "      <td>4</td>\n",
       "      <td>4</td>\n",
       "      <td>4</td>\n",
       "      <td>2</td>\n",
       "      <td>3</td>\n",
       "      <td>2</td>\n",
       "      <td>310</td>\n",
       "      <td>305.0</td>\n",
       "    </tr>\n",
       "    <tr>\n",
       "      <th>2</th>\n",
       "      <td>satisfied</td>\n",
       "      <td>Female</td>\n",
       "      <td>Loyal Customer</td>\n",
       "      <td>15</td>\n",
       "      <td>Personal Travel</td>\n",
       "      <td>Eco</td>\n",
       "      <td>2138</td>\n",
       "      <td>0</td>\n",
       "      <td>0</td>\n",
       "      <td>0</td>\n",
       "      <td>...</td>\n",
       "      <td>2</td>\n",
       "      <td>2</td>\n",
       "      <td>3</td>\n",
       "      <td>3</td>\n",
       "      <td>4</td>\n",
       "      <td>4</td>\n",
       "      <td>4</td>\n",
       "      <td>2</td>\n",
       "      <td>0</td>\n",
       "      <td>0.0</td>\n",
       "    </tr>\n",
       "    <tr>\n",
       "      <th>3</th>\n",
       "      <td>satisfied</td>\n",
       "      <td>Female</td>\n",
       "      <td>Loyal Customer</td>\n",
       "      <td>60</td>\n",
       "      <td>Personal Travel</td>\n",
       "      <td>Eco</td>\n",
       "      <td>623</td>\n",
       "      <td>0</td>\n",
       "      <td>0</td>\n",
       "      <td>0</td>\n",
       "      <td>...</td>\n",
       "      <td>3</td>\n",
       "      <td>1</td>\n",
       "      <td>1</td>\n",
       "      <td>0</td>\n",
       "      <td>1</td>\n",
       "      <td>4</td>\n",
       "      <td>1</td>\n",
       "      <td>3</td>\n",
       "      <td>0</td>\n",
       "      <td>0.0</td>\n",
       "    </tr>\n",
       "    <tr>\n",
       "      <th>4</th>\n",
       "      <td>satisfied</td>\n",
       "      <td>Female</td>\n",
       "      <td>Loyal Customer</td>\n",
       "      <td>70</td>\n",
       "      <td>Personal Travel</td>\n",
       "      <td>Eco</td>\n",
       "      <td>354</td>\n",
       "      <td>0</td>\n",
       "      <td>0</td>\n",
       "      <td>0</td>\n",
       "      <td>...</td>\n",
       "      <td>4</td>\n",
       "      <td>2</td>\n",
       "      <td>2</td>\n",
       "      <td>0</td>\n",
       "      <td>2</td>\n",
       "      <td>4</td>\n",
       "      <td>2</td>\n",
       "      <td>5</td>\n",
       "      <td>0</td>\n",
       "      <td>0.0</td>\n",
       "    </tr>\n",
       "  </tbody>\n",
       "</table>\n",
       "<p>5 rows × 23 columns</p>\n",
       "</div>"
      ],
      "text/plain": [
       "  satisfaction  Gender   Customer Type  Age   Type of Travel     Class  \\\n",
       "0    satisfied  Female  Loyal Customer   65  Personal Travel       Eco   \n",
       "1    satisfied    Male  Loyal Customer   47  Personal Travel  Business   \n",
       "2    satisfied  Female  Loyal Customer   15  Personal Travel       Eco   \n",
       "3    satisfied  Female  Loyal Customer   60  Personal Travel       Eco   \n",
       "4    satisfied  Female  Loyal Customer   70  Personal Travel       Eco   \n",
       "\n",
       "   Flight Distance  Seat comfort  Departure/Arrival time convenient  \\\n",
       "0              265             0                                  0   \n",
       "1             2464             0                                  0   \n",
       "2             2138             0                                  0   \n",
       "3              623             0                                  0   \n",
       "4              354             0                                  0   \n",
       "\n",
       "   Food and drink  ...  Online support  Ease of Online booking  \\\n",
       "0               0  ...               2                       3   \n",
       "1               0  ...               2                       3   \n",
       "2               0  ...               2                       2   \n",
       "3               0  ...               3                       1   \n",
       "4               0  ...               4                       2   \n",
       "\n",
       "   On-board service  Leg room service  Baggage handling  Checkin service  \\\n",
       "0                 3                 0                 3                5   \n",
       "1                 4                 4                 4                2   \n",
       "2                 3                 3                 4                4   \n",
       "3                 1                 0                 1                4   \n",
       "4                 2                 0                 2                4   \n",
       "\n",
       "   Cleanliness  Online boarding  Departure Delay in Minutes  \\\n",
       "0            3                2                           0   \n",
       "1            3                2                         310   \n",
       "2            4                2                           0   \n",
       "3            1                3                           0   \n",
       "4            2                5                           0   \n",
       "\n",
       "   Arrival Delay in Minutes  \n",
       "0                       0.0  \n",
       "1                     305.0  \n",
       "2                       0.0  \n",
       "3                       0.0  \n",
       "4                       0.0  \n",
       "\n",
       "[5 rows x 23 columns]"
      ]
     },
<<<<<<< HEAD
     "execution_count": 16,
=======
     "execution_count": null,
>>>>>>> 488adc88632efad43ea8338ec7d3283a464df7b8
     "metadata": {},
     "output_type": "execute_result"
    }
   ],
   "source": [
    "import pandas as pd\n",
    "import numpy as np\n",
    "import matplotlib.pyplot as plt\n",
    "import seaborn as sns\n",
    "\n",
    "sns.set_theme(style=\"whitegrid\",\n",
    "              font_scale=1)\n",
    "\n",
    "import matplotlib.pyplot as plt\n",
    "plt.rc(\"axes.spines\", top=False, right=False)\n",
    "\n",
    "dta = pd.read_csv(\"../data/raw/Invistico_Airline.csv\")\n",
    "dta = pd.DataFrame(dta)\n",
    "\n",
    "dta.head()"
   ]
  },
  {
   "attachments": {},
   "cell_type": "markdown",
   "metadata": {},
   "source": [
    "------\n",
    "\n",
    "- Data Analysis Plan\n",
    "    - I plan on subsetting the satisfaction, online boarding, ease of online booking, and age columns from the dataset to determine if there is a trend between whether the customer's satisfaction is affected by the level of ease in booking flight tickets online and ability to board online. First I will clean the data to ensure neither of the factors contain NA or null. The determination of the ease of online booking and online boarding uses a scale of 0 to 5, where 0 is not accessible and 5 is very accessible. To use Pearson's r to find the correlation of the variables, it will be easier for me to convert all variables into a numerical values to separate between satisfied and disatified customers and analyze the scores between the ease of online booking scores, online boarding, and age of customers."
   ]
  },
  {
   "cell_type": "code",
<<<<<<< HEAD
   "execution_count": 4,
=======
   "execution_count": null,
>>>>>>> 488adc88632efad43ea8338ec7d3283a464df7b8
   "metadata": {},
   "outputs": [
    {
     "data": {
      "text/html": [
       "<div>\n",
       "<style scoped>\n",
       "    .dataframe tbody tr th:only-of-type {\n",
       "        vertical-align: middle;\n",
       "    }\n",
       "\n",
       "    .dataframe tbody tr th {\n",
       "        vertical-align: top;\n",
       "    }\n",
       "\n",
       "    .dataframe thead th {\n",
       "        text-align: right;\n",
       "    }\n",
       "</style>\n",
       "<table border=\"1\" class=\"dataframe\">\n",
       "  <thead>\n",
       "    <tr style=\"text-align: right;\">\n",
       "      <th></th>\n",
       "      <th>count</th>\n",
       "      <th>mean</th>\n",
       "      <th>std</th>\n",
       "      <th>min</th>\n",
       "      <th>25%</th>\n",
       "      <th>50%</th>\n",
       "      <th>75%</th>\n",
       "      <th>max</th>\n",
       "    </tr>\n",
       "  </thead>\n",
       "  <tbody>\n",
       "    <tr>\n",
       "      <th>Ease of Online booking</th>\n",
       "      <td>129880.0</td>\n",
       "      <td>3.472105</td>\n",
       "      <td>1.305560</td>\n",
       "      <td>0.0</td>\n",
       "      <td>2.0</td>\n",
       "      <td>4.0</td>\n",
       "      <td>5.0</td>\n",
       "      <td>5.0</td>\n",
       "    </tr>\n",
       "    <tr>\n",
       "      <th>Online boarding</th>\n",
       "      <td>129880.0</td>\n",
       "      <td>3.352587</td>\n",
       "      <td>1.298715</td>\n",
       "      <td>0.0</td>\n",
       "      <td>2.0</td>\n",
       "      <td>4.0</td>\n",
       "      <td>4.0</td>\n",
       "      <td>5.0</td>\n",
       "    </tr>\n",
       "    <tr>\n",
       "      <th>Online support</th>\n",
       "      <td>129880.0</td>\n",
       "      <td>3.519703</td>\n",
       "      <td>1.306511</td>\n",
       "      <td>0.0</td>\n",
       "      <td>3.0</td>\n",
       "      <td>4.0</td>\n",
       "      <td>5.0</td>\n",
       "      <td>5.0</td>\n",
       "    </tr>\n",
       "    <tr>\n",
       "      <th>Age</th>\n",
       "      <td>129880.0</td>\n",
       "      <td>39.427957</td>\n",
       "      <td>15.119360</td>\n",
       "      <td>7.0</td>\n",
       "      <td>27.0</td>\n",
       "      <td>40.0</td>\n",
       "      <td>51.0</td>\n",
       "      <td>85.0</td>\n",
       "    </tr>\n",
       "  </tbody>\n",
       "</table>\n",
       "</div>"
      ],
      "text/plain": [
       "                           count       mean        std  min   25%   50%   75%  \\\n",
       "Ease of Online booking  129880.0   3.472105   1.305560  0.0   2.0   4.0   5.0   \n",
       "Online boarding         129880.0   3.352587   1.298715  0.0   2.0   4.0   4.0   \n",
       "Online support          129880.0   3.519703   1.306511  0.0   3.0   4.0   5.0   \n",
       "Age                     129880.0  39.427957  15.119360  7.0  27.0  40.0  51.0   \n",
       "\n",
       "                         max  \n",
       "Ease of Online booking   5.0  \n",
       "Online boarding          5.0  \n",
       "Online support           5.0  \n",
       "Age                     85.0  "
      ]
     },
<<<<<<< HEAD
     "execution_count": 4,
=======
     "execution_count": null,
>>>>>>> 488adc88632efad43ea8338ec7d3283a464df7b8
     "metadata": {},
     "output_type": "execute_result"
    }
   ],
   "source": [
    "df = dta[['satisfaction','Ease of Online booking','Online boarding', 'Online support', 'Age']].dropna()\n",
    "df.describe().T\n",
    "# mean = booking: 3.472105; boarding: 3.352587; age: 39.427957\n",
    "# std = booking: 1.30556; boarding: 1.298715; age: 15.119460"
   ]
  },
  {
   "cell_type": "code",
   "execution_count": null,
   "metadata": {},
   "outputs": [
    {
     "data": {
      "text/html": [
       "<div>\n",
       "<style scoped>\n",
       "    .dataframe tbody tr th:only-of-type {\n",
       "        vertical-align: middle;\n",
       "    }\n",
       "\n",
       "    .dataframe tbody tr th {\n",
       "        vertical-align: top;\n",
       "    }\n",
       "\n",
       "    .dataframe thead th {\n",
       "        text-align: right;\n",
       "    }\n",
       "</style>\n",
       "<table border=\"1\" class=\"dataframe\">\n",
       "  <thead>\n",
       "    <tr style=\"text-align: right;\">\n",
       "      <th></th>\n",
       "      <th>count</th>\n",
       "      <th>unique</th>\n",
       "      <th>top</th>\n",
       "      <th>freq</th>\n",
       "    </tr>\n",
       "  </thead>\n",
       "  <tbody>\n",
       "    <tr>\n",
       "      <th>satisfaction</th>\n",
       "      <td>129880</td>\n",
       "      <td>2</td>\n",
       "      <td>satisfied</td>\n",
       "      <td>71087</td>\n",
       "    </tr>\n",
       "  </tbody>\n",
       "</table>\n",
       "</div>"
      ],
      "text/plain": [
       "               count unique        top   freq\n",
       "satisfaction  129880      2  satisfied  71087"
      ]
     },
     "execution_count": null,
     "metadata": {},
     "output_type": "execute_result"
    }
   ],
   "source": [
    "df.describe(exclude=[np.number]).T\n",
    "# 71087/129880 # 0.54738303\n",
    "# 55% Satisfaction "
   ]
  },
  {
   "cell_type": "code",
<<<<<<< HEAD
   "execution_count": 6,
=======
   "execution_count": null,
>>>>>>> 488adc88632efad43ea8338ec7d3283a464df7b8
   "metadata": {},
   "outputs": [
    {
     "name": "stderr",
     "output_type": "stream",
     "text": [
      "C:\\Users\\sarap.sara\\AppData\\Local\\Temp\\ipykernel_20488\\833336057.py:1: FutureWarning: The default value of numeric_only in DataFrame.mean is deprecated. In a future version, it will default to False. In addition, specifying 'numeric_only=None' is deprecated. Select only valid columns or specify the value of numeric_only to silence this warning.\n",
      "  satisfied = df.loc[df['satisfaction'] == 'satisfied'].mean()\n"
     ]
    },
    {
     "name": "stdout",
     "output_type": "stream",
     "text": [
      "Ease of Online booking     3.984751\n",
      "Online boarding            3.751966\n",
      "Online support             3.983260\n",
      "Age                       41.050051\n",
      "dtype: float64\n",
      "Ease of Online booking     2.852261\n",
      "Online boarding            2.869695\n",
      "Online support             2.959213\n",
      "Age                       37.466671\n",
      "dtype: float64\n"
     ]
    },
    {
     "name": "stderr",
     "output_type": "stream",
     "text": [
      "C:\\Users\\sarap.sara\\AppData\\Local\\Temp\\ipykernel_20488\\833336057.py:4: FutureWarning: The default value of numeric_only in DataFrame.mean is deprecated. In a future version, it will default to False. In addition, specifying 'numeric_only=None' is deprecated. Select only valid columns or specify the value of numeric_only to silence this warning.\n",
      "  dissatisfied = df.loc[df['satisfaction'] == 'dissatisfied'].mean()\n"
     ]
    }
   ],
   "source": [
    "satisfied = df.loc[df['satisfaction'] == 'satisfied'].mean()\n",
    "print(satisfied)    # booking: 3.984751; boarding: 3.751966; support: 3.983260; age: 41.050051;\n",
    "\n",
    "dissatisfied = df.loc[df['satisfaction'] == 'dissatisfied'].mean()\n",
    "print(dissatisfied)     #booking: 2.852261; boarding: 2.869695; suport: 2.959213; age: 37.466671"
   ]
  },
  {
   "cell_type": "code",
   "execution_count": 28,
   "metadata": {},
   "outputs": [
    {
     "name": "stdout",
     "output_type": "stream",
     "text": [
      "       Ease of Online booking  Online boarding  Online support            Age\n",
      "count           129880.000000    129880.000000   129880.000000  129880.000000\n",
      "mean                 3.472105         3.352587        3.519703      39.427957\n",
      "std                  1.305560         1.298715        1.306511      15.119360\n",
      "min                  0.000000         0.000000        0.000000       7.000000\n",
      "25%                  2.000000         2.000000        3.000000      27.000000\n",
      "50%                  4.000000         4.000000        4.000000      40.000000\n",
      "75%                  5.000000         4.000000        5.000000      51.000000\n",
      "max                  5.000000         5.000000        5.000000      85.000000\n",
      "       satisfaction\n",
      "count        129880\n",
      "unique            2\n",
      "top       satisfied\n",
      "freq          71087\n"
     ]
    },
    {
     "name": "stderr",
     "output_type": "stream",
     "text": [
      "C:\\Users\\sarap.sara\\AppData\\Local\\Temp\\ipykernel_20488\\2099611443.py:7: FutureWarning: The default value of numeric_only in DataFrame.mean is deprecated. In a future version, it will default to False. In addition, specifying 'numeric_only=None' is deprecated. Select only valid columns or specify the value of numeric_only to silence this warning.\n",
      "  satisfied = df.loc[df['satisfaction'] == 'satisfied'].mean()\n"
     ]
    },
    {
     "name": "stdout",
     "output_type": "stream",
     "text": [
      "Ease of Online booking     3.984751\n",
      "Online boarding            3.751966\n",
      "Online support             3.983260\n",
      "Age                       41.050051\n",
      "dtype: float64\n",
      "Ease of Online booking     2.852261\n",
      "Online boarding            2.869695\n",
      "Online support             2.959213\n",
      "Age                       37.466671\n",
      "dtype: float64\n"
     ]
    },
    {
     "name": "stderr",
     "output_type": "stream",
     "text": [
      "C:\\Users\\sarap.sara\\AppData\\Local\\Temp\\ipykernel_20488\\2099611443.py:10: FutureWarning: The default value of numeric_only in DataFrame.mean is deprecated. In a future version, it will default to False. In addition, specifying 'numeric_only=None' is deprecated. Select only valid columns or specify the value of numeric_only to silence this warning.\n",
      "  dissatisfied = df.loc[df['satisfaction'] == 'dissatisfied'].mean()\n"
     ]
    }
   ],
   "source": [
    "# **Exploratory Data Analysis**\n",
    "\n",
    "df = dta[['satisfaction','Ease of Online booking','Online boarding', 'Online support', 'Age']].dropna()\n",
    "print(df.describe())\n",
    "print(df.describe(exclude=[np.number]))\n",
    "\n",
    "satisfied = df.loc[df['satisfaction'] == 'satisfied'].mean()\n",
    "print(satisfied)\n",
    "\n",
    "dissatisfied = df.loc[df['satisfaction'] == 'dissatisfied'].mean()\n",
    "print(dissatisfied)\n"
   ]
  },
  {
   "cell_type": "code",
   "execution_count": 30,
   "metadata": {},
   "outputs": [
    {
     "data": {
      "text/plain": [
       "<seaborn.axisgrid.FacetGrid at 0x232ad2de980>"
      ]
     },
     "execution_count": 30,
     "metadata": {},
     "output_type": "execute_result"
    },
    {
     "data": {
      "image/png": "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",
      "text/plain": [
       "<Figure size 500x500 with 1 Axes>"
      ]
     },
     "metadata": {},
     "output_type": "display_data"
    }
   ],
   "source": [
    "df = sns.load_dataset(\"anscombe\")\n",
    "df = dta[['satisfaction','Ease of Online booking','Online boarding', 'Online support', 'Age']].dropna()\n",
    "\n",
    "\n",
    "# Load the example dataset for Anscombe's quartet\n",
    "\n",
    "\n",
    "# Show the results of a linear regression within each dataset\n",
    "sns.lmplot(\n",
    "    data=df, x=\n",
    ")\n"
   ]
  }
 ],
 "metadata": {
  "kernelspec": {
   "display_name": "base",
   "language": "python",
   "name": "python3"
  }
 },
 "nbformat": 4,
 "nbformat_minor": 4
}
