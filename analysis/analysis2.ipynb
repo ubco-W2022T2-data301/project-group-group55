{
 "cells": [
  {
   "cell_type": "markdown",
   "metadata": {},
   "source": [
    "# Mataija Henderson"
   ]
  },
  {
   "cell_type": "markdown",
   "metadata": {},
   "source": [
    "# Research Question\n",
    "\n",
    "**Do delays in flight arrivals or delays in flight departures have a bigger impact on overal customer satisfaction with the flight?**\n",
    "\n",
    "## Research question/interests\n",
    "\n",
    "I am mainly interested in psychology. A few topics that I enjoy learning about are social and developmental psychology. Having two members interested in psychology and one interested in management has led us to look at airline customer data to see customer satisfaction."
   ]
  },
  {
   "cell_type": "code",
   "execution_count": null,
   "metadata": {},
   "outputs": [],
   "source": [
    "import pandas as pd\n",
    "\n",
    "dta = pd.read_csv(\"../data/raw/Invistico_Airline.csv\")"
   ]
  },
  {
   "cell_type": "markdown",
   "metadata": {},
   "source": [
    "\n",
    "\n",
    "Data analysis plan: \n",
    "To answer this question, I plan to create a new column with the total of departure delay and arrival delay added together to get a value for overall average delay for each customer. I can then use these values and compare the average satisfaction scores of people with a delay and those who have a total of 0 minutes of delay to see if the average satisfaction scores differ.\n"
   ]
  },
  {
   "cell_type": "code",
   "execution_count": null,
   "metadata": {},
   "outputs": [],
   "source": []
  }
 ],
 "metadata": {
  "kernelspec": {
   "display_name": "Python 3 (ipykernel)",
   "language": "python",
   "name": "python3"
  }
 },
 "nbformat": 4,
 "nbformat_minor": 4
}
